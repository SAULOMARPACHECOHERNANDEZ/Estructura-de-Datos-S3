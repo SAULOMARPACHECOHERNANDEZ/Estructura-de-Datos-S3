{
  "nbformat": 4,
  "nbformat_minor": 0,
  "metadata": {
    "colab": {
      "provenance": [],
      "authorship_tag": "ABX9TyMu54W7vui1oVbj0w5c8Ya3",
      "include_colab_link": true
    },
    "kernelspec": {
      "name": "python3",
      "display_name": "Python 3"
    },
    "language_info": {
      "name": "python"
    }
  },
  "cells": [
    {
      "cell_type": "markdown",
      "metadata": {
        "id": "view-in-github",
        "colab_type": "text"
      },
      "source": [
        "<a href=\"https://colab.research.google.com/github/SAULOMARPACHECOHERNANDEZ/Estructura-de-Datos-S3/blob/main/ejerciciosEjemplo_29_08_2023.ipynb\" target=\"_parent\"><img src=\"https://colab.research.google.com/assets/colab-badge.svg\" alt=\"Open In Colab\"/></a>"
      ]
    },
    {
      "cell_type": "code",
      "execution_count": null,
      "metadata": {
        "id": "osq3I1ca41QC"
      },
      "outputs": [],
      "source": []
    },
    {
      "cell_type": "code",
      "source": [
        "print(versiones_plone.index(9))\n",
        "#error porque el numero 9 no se encuentra en la lista"
      ],
      "metadata": {
        "id": "6Kz0qBs47ucF"
      },
      "execution_count": null,
      "outputs": []
    },
    {
      "cell_type": "code",
      "source": [
        "versiones_plone=[2.1,2.5,3.6,4,5,6,4]\n",
        "print(versiones_plone[2])\n",
        "print(versiones_plone[3])\n",
        "print(versiones_plone[5])\n",
        "print(versiones_plone.index(6,2))\n",
        "print(versiones_plone.index(4,1))\n",
        "\n"
      ],
      "metadata": {
        "id": "yvXZNDho436l"
      },
      "execution_count": null,
      "outputs": []
    },
    {
      "cell_type": "code",
      "source": [
        "print(versiones_plone.index(4,6))"
      ],
      "metadata": {
        "colab": {
          "base_uri": "https://localhost:8080/"
        },
        "id": "4X5Eo4CI6-vX",
        "outputId": "75be7ff6-607a-4221-9799-6d868cde42e0"
      },
      "execution_count": 11,
      "outputs": [
        {
          "output_type": "stream",
          "name": "stdout",
          "text": [
            "6\n"
          ]
        }
      ]
    },
    {
      "cell_type": "code",
      "source": [
        "print(versiones_plone.index(6,1))"
      ],
      "metadata": {
        "colab": {
          "base_uri": "https://localhost:8080/"
        },
        "id": "48h70sUS7HYk",
        "outputId": "ed6273e4-3de3-48d4-c43d-275a3d1197e1"
      },
      "execution_count": 12,
      "outputs": [
        {
          "output_type": "stream",
          "name": "stdout",
          "text": [
            "5\n"
          ]
        }
      ]
    },
    {
      "cell_type": "code",
      "source": [
        "print(versiones_plone.index(3.6,2))"
      ],
      "metadata": {
        "colab": {
          "base_uri": "https://localhost:8080/"
        },
        "id": "7c5Hmnbo7ZeB",
        "outputId": "17610f4b-2ce1-4a9a-f78a-c88d27a34218"
      },
      "execution_count": 13,
      "outputs": [
        {
          "output_type": "stream",
          "name": "stdout",
          "text": [
            "2\n"
          ]
        }
      ]
    },
    {
      "cell_type": "code",
      "source": [
        "#el metodo insert() inserta en elemento x en la lista, en el indice i.\n",
        "print(versiones_plone)\n",
        "versiones_plone.insert(7,3.7)\n",
        "print(versiones_plone)"
      ],
      "metadata": {
        "id": "NyJ0Vu0v8W0M"
      },
      "execution_count": null,
      "outputs": []
    },
    {
      "cell_type": "code",
      "source": [
        "#el metodo pop devuelve el ultimo elemento de la lista y lo borra de la misma\n",
        "print(versiones_plone.pop())\n",
        "print(versiones_plone)"
      ],
      "metadata": {
        "colab": {
          "base_uri": "https://localhost:8080/"
        },
        "id": "WbyVwXzZ-4WF",
        "outputId": "b58c9294-30cd-43b6-e561-6524913bd321"
      },
      "execution_count": 21,
      "outputs": [
        {
          "output_type": "stream",
          "name": "stdout",
          "text": [
            "6\n",
            "[2.1, 2.5, 3.7, 3.6, 4, 5, 3.7, 3.7, 3.7]\n"
          ]
        }
      ]
    },
    {
      "cell_type": "code",
      "source": [
        "print(versiones_plone.pop(+1))\n",
        "print(versiones_plone)"
      ],
      "metadata": {
        "colab": {
          "base_uri": "https://localhost:8080/"
        },
        "id": "v1LjFDekAm-2",
        "outputId": "d127f2c8-103e-4a50-e078-183146cdee3f"
      },
      "execution_count": 22,
      "outputs": [
        {
          "output_type": "stream",
          "name": "stdout",
          "text": [
            "2.5\n",
            "[2.1, 3.7, 3.6, 4, 5, 3.7, 3.7, 3.7]\n"
          ]
        }
      ]
    },
    {
      "cell_type": "code",
      "source": [
        "#el metodo remove() recibe como argumento un elemento y borra su primera\n",
        "print(versiones_plone)\n",
        "versiones_plone.remove(3.7)\n",
        "print(versiones_plone)"
      ],
      "metadata": {
        "colab": {
          "base_uri": "https://localhost:8080/"
        },
        "id": "swmCTe0IA8qS",
        "outputId": "7c9255d7-20a8-4c2e-a247-3547ff4b0eee"
      },
      "execution_count": 24,
      "outputs": [
        {
          "output_type": "stream",
          "name": "stdout",
          "text": [
            "[2.1, 3.7, 3.6, 4, 5, 3.7, 3.7, 3.7]\n",
            "[2.1, 3.6, 4, 5, 3.7, 3.7, 3.7]\n"
          ]
        }
      ]
    },
    {
      "cell_type": "code",
      "source": [
        "#el metodo reverse() este metodo inverte el orden de los elementos de una lista\n",
        "print(versiones_plone)\n",
        "versiones_plone.reverse()\n",
        "print(versiones_plone)"
      ],
      "metadata": {
        "colab": {
          "base_uri": "https://localhost:8080/"
        },
        "id": "VNRIQoVeBf-W",
        "outputId": "73af2ac8-3216-40c5-fdd8-51bf952bcbe9"
      },
      "execution_count": 25,
      "outputs": [
        {
          "output_type": "stream",
          "name": "stdout",
          "text": [
            "[2.1, 3.6, 4, 5, 3.7, 3.7, 3.7]\n",
            "[3.7, 3.7, 3.7, 5, 4, 3.6, 2.1]\n"
          ]
        }
      ]
    },
    {
      "cell_type": "code",
      "source": [
        "#el metodo sort() ordena los elementos\n",
        "print(versiones_plone)\n",
        "versiones_plone.sort()\n",
        "print(versiones_plone)"
      ],
      "metadata": {
        "colab": {
          "base_uri": "https://localhost:8080/"
        },
        "id": "TwY6G6trCB1F",
        "outputId": "2073b668-6ee9-4465-ef3c-ac5e4681b92a"
      },
      "execution_count": 26,
      "outputs": [
        {
          "output_type": "stream",
          "name": "stdout",
          "text": [
            "[3.7, 3.7, 3.7, 5, 4, 3.6, 2.1]\n",
            "[2.1, 3.6, 3.7, 3.7, 3.7, 4, 5]\n"
          ]
        }
      ]
    },
    {
      "cell_type": "code",
      "source": [
        "#el metodo sort admite la opcion reverse por defecto con valor false de tener valor true, el ordenamiento se hace en serntido inverso\n",
        "versiones_plone.sort(reverse=True)\n",
        "print(versiones_plone)\n",
        "versiones_plone.append(\"a\")\n",
        "versiones_plone.sort(reverse=True)"
      ],
      "metadata": {
        "colab": {
          "base_uri": "https://localhost:8080/",
          "height": 227
        },
        "id": "S0TKBA1OCirg",
        "outputId": "9b2d3b1d-4d9d-4bf2-8935-694a5234aa86"
      },
      "execution_count": 28,
      "outputs": [
        {
          "output_type": "stream",
          "name": "stdout",
          "text": [
            "[5, 4, 3.7, 3.7, 3.7, 3.6, 2.1]\n"
          ]
        },
        {
          "output_type": "error",
          "ename": "TypeError",
          "evalue": "ignored",
          "traceback": [
            "\u001b[0;31m---------------------------------------------------------------------------\u001b[0m",
            "\u001b[0;31mTypeError\u001b[0m                                 Traceback (most recent call last)",
            "\u001b[0;32m<ipython-input-28-025d696a48a0>\u001b[0m in \u001b[0;36m<cell line: 5>\u001b[0;34m()\u001b[0m\n\u001b[1;32m      3\u001b[0m \u001b[0mprint\u001b[0m\u001b[0;34m(\u001b[0m\u001b[0mversiones_plone\u001b[0m\u001b[0;34m)\u001b[0m\u001b[0;34m\u001b[0m\u001b[0;34m\u001b[0m\u001b[0m\n\u001b[1;32m      4\u001b[0m \u001b[0mversiones_plone\u001b[0m\u001b[0;34m.\u001b[0m\u001b[0mappend\u001b[0m\u001b[0;34m(\u001b[0m\u001b[0;34m\"a\"\u001b[0m\u001b[0;34m)\u001b[0m\u001b[0;34m\u001b[0m\u001b[0;34m\u001b[0m\u001b[0m\n\u001b[0;32m----> 5\u001b[0;31m \u001b[0mversiones_plone\u001b[0m\u001b[0;34m.\u001b[0m\u001b[0msort\u001b[0m\u001b[0;34m(\u001b[0m\u001b[0mreverse\u001b[0m\u001b[0;34m=\u001b[0m\u001b[0;32mTrue\u001b[0m\u001b[0;34m)\u001b[0m\u001b[0;34m\u001b[0m\u001b[0;34m\u001b[0m\u001b[0m\n\u001b[0m",
            "\u001b[0;31mTypeError\u001b[0m: '<' not supported between instances of 'float' and 'str'"
          ]
        }
      ]
    },
    {
      "cell_type": "code",
      "source": [
        "arrayLetras=(\"a\",\"b\",\"c\",\"d\")\n",
        "arrayLetras.sort()"
      ],
      "metadata": {
        "colab": {
          "base_uri": "https://localhost:8080/",
          "height": 193
        },
        "id": "J8YTiEbqDFes",
        "outputId": "03495b80-f4fa-44e7-92c1-9d1c950da8c4"
      },
      "execution_count": 30,
      "outputs": [
        {
          "output_type": "error",
          "ename": "AttributeError",
          "evalue": "ignored",
          "traceback": [
            "\u001b[0;31m---------------------------------------------------------------------------\u001b[0m",
            "\u001b[0;31mAttributeError\u001b[0m                            Traceback (most recent call last)",
            "\u001b[0;32m<ipython-input-30-4927c24f7dfa>\u001b[0m in \u001b[0;36m<cell line: 2>\u001b[0;34m()\u001b[0m\n\u001b[1;32m      1\u001b[0m \u001b[0marrayLetras\u001b[0m\u001b[0;34m=\u001b[0m\u001b[0;34m(\u001b[0m\u001b[0;34m\"a\"\u001b[0m\u001b[0;34m,\u001b[0m\u001b[0;34m\"b\"\u001b[0m\u001b[0;34m,\u001b[0m\u001b[0;34m\"c\"\u001b[0m\u001b[0;34m,\u001b[0m\u001b[0;34m\"d\"\u001b[0m\u001b[0;34m)\u001b[0m\u001b[0;34m\u001b[0m\u001b[0;34m\u001b[0m\u001b[0m\n\u001b[0;32m----> 2\u001b[0;31m \u001b[0marrayLetras\u001b[0m\u001b[0;34m.\u001b[0m\u001b[0msort\u001b[0m\u001b[0;34m(\u001b[0m\u001b[0;34m)\u001b[0m\u001b[0;34m\u001b[0m\u001b[0;34m\u001b[0m\u001b[0m\n\u001b[0m",
            "\u001b[0;31mAttributeError\u001b[0m: 'tuple' object has no attribute 'sort'"
          ]
        }
      ]
    },
    {
      "cell_type": "code",
      "source": [
        "vocales='aeiou'\n",
        "for letras in 'hermosa':\n",
        "  if letras in vocales:\n",
        "    print(letras)"
      ],
      "metadata": {
        "colab": {
          "base_uri": "https://localhost:8080/"
        },
        "id": "m5lHKA1wE-6K",
        "outputId": "54809492-3073-412a-b893-1d3d51ff8a37"
      },
      "execution_count": 32,
      "outputs": [
        {
          "output_type": "stream",
          "name": "stdout",
          "text": [
            "e\n",
            "o\n",
            "a\n"
          ]
        }
      ]
    },
    {
      "cell_type": "code",
      "source": [
        "#el metodo split separa una cadena en frases, los valores pueden separarse ocn la funcion initegrada\n",
        "mensaje=\"Hola, como estas tu?\"\n",
        "mensaje.split()#retorna una lista\n",
        "for palabra in mensaje.split():\n",
        "  print(palabra)"
      ],
      "metadata": {
        "colab": {
          "base_uri": "https://localhost:8080/"
        },
        "id": "NqxIZF4VHIwh",
        "outputId": "b7a6ff2e-4fd3-4f8a-de98-20ca80de672c"
      },
      "execution_count": 35,
      "outputs": [
        {
          "output_type": "stream",
          "name": "stdout",
          "text": [
            "Hola,\n",
            "como\n",
            "estas\n",
            "tu?\n"
          ]
        }
      ]
    },
    {
      "cell_type": "code",
      "source": [
        "#para iterar con dos o mas secuencias al mismo tiempo se utiliza el metodo zip()\n",
        "preguntas=[\"nombre\",\"objetivo\",\"sistema operativo\"]\n",
        "respuestas=[\"Leonardo\",\"aprender Python y Plone\",\"Linux\"]\n",
        "for pregunta, respuesta in zip(preguntas, respuestas):\n",
        "  print('¿Cual es tu {0}, la respuesta es:{1}.'.format(pregunta,respuesta))"
      ],
      "metadata": {
        "colab": {
          "base_uri": "https://localhost:8080/"
        },
        "id": "Ine1-50PIH7U",
        "outputId": "a3823023-db21-4526-b1ec-3d1a43db9157"
      },
      "execution_count": 36,
      "outputs": [
        {
          "output_type": "stream",
          "name": "stdout",
          "text": [
            "¿Cual es tu nombre, la respuesta es:Leonardo.\n",
            "¿Cual es tu objetivo, la respuesta es:aprender Python y Plone.\n",
            "¿Cual es tu sistema operativo, la respuesta es:Linux.\n"
          ]
        }
      ]
    },
    {
      "cell_type": "code",
      "source": [],
      "metadata": {
        "id": "GR1wvHyXKgon"
      },
      "execution_count": null,
      "outputs": []
    }
  ]
}