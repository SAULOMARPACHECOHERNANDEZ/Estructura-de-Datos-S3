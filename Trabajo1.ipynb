{
  "nbformat": 4,
  "nbformat_minor": 0,
  "metadata": {
    "colab": {
      "provenance": [],
      "authorship_tag": "ABX9TyOr8sYd2XeBenkZJPXAXZpX",
      "include_colab_link": true
    },
    "kernelspec": {
      "name": "python3",
      "display_name": "Python 3"
    },
    "language_info": {
      "name": "python"
    }
  },
  "cells": [
    {
      "cell_type": "markdown",
      "metadata": {
        "id": "view-in-github",
        "colab_type": "text"
      },
      "source": [
        "<a href=\"https://colab.research.google.com/github/SAULOMARPACHECOHERNANDEZ/Estructura-de-Datos-S3/blob/main/Trabajo1.ipynb\" target=\"_parent\"><img src=\"https://colab.research.google.com/assets/colab-badge.svg\" alt=\"Open In Colab\"/></a>"
      ]
    },
    {
      "cell_type": "code",
      "execution_count": 10,
      "metadata": {
        "colab": {
          "base_uri": "https://localhost:8080/"
        },
        "id": "m0rXcvbGNcqP",
        "outputId": "9858514b-354a-43a5-800e-9f560e89936a"
      },
      "outputs": [
        {
          "output_type": "stream",
          "name": "stdout",
          "text": [
            "hola mundo\n",
            "Ingresa el nombre -->Juan\n",
            "Ingresa la edad -->18\n",
            "Juan tiene la edad de 18\n",
            "Desea continuarSi\n",
            "Ingresa el nombre -->Mario\n",
            "Ingresa la edad -->19\n",
            "Mario tiene la edad de 19\n",
            "Desea continuarSi\n",
            "Ingresa el nombre -->Raul\n",
            "Ingresa la edad -->34\n",
            "Raul tiene la edad de 34\n",
            "Desea continuarNo\n",
            "['Juan', 18, 'Mario', 19, 'Raul', 34]\n",
            "Fueron 3 personas\n"
          ]
        }
      ],
      "source": [
        "print(\"hola mundo\")\n",
        "array=[]\n",
        "c=\"si\"\n",
        "contador=0\n",
        "while c==\"si\" or c==\"SI\" or c==\"Si\":\n",
        " contador+=1\n",
        " a=input(\"Ingresa el nombre -->\")\n",
        " array.append(a)\n",
        " b=int(input(\"Ingresa la edad -->\"))\n",
        " array.append(b)\n",
        " print(a,\"tiene la edad de\",b)\n",
        " c=input(\"Desea continuar\")\n",
        "print(array)\n",
        "print(\"Fueron\",contador,\"personas\")"
      ]
    },
    {
      "cell_type": "code",
      "source": [],
      "metadata": {
        "id": "em7DZBpTWnQO"
      },
      "execution_count": null,
      "outputs": []
    }
  ]
}